{
 "nbformat": 4,
 "nbformat_minor": 1,
 "metadata": {
   "colab": {"name": "One-Click Colab Launcher"},
   "kernelspec": {"display_name": "Python 3", "language": "python", "name": "python3"},
   "language_info": {"name": "python"}
 },
 "cells": [
   {
     "cell_type": "markdown",
     "metadata": {},
     "source": [
       "# 📓 One-Click Colab Launcher\n",
       "This notebook will:\n",
       "1) Install dependencies\n",
       "2) Clone the repo\n",
       "3) Run the Llama-3 activations export"
     ]
   },
  {
    "cell_type": "code",
    "execution_count": null,
    "metadata": {},
     "source": [
       "# Install dependencies\n",
       "!apt-get update -qq && apt-get install -y -qq git\n",
       "!pip install -q torch torchvision torchaudio --extra-index-url https://download.pytorch.org/whl/cu118\n",
       "!pip install -q transformers datasets bitsandbytes accelerate"
     ],
     "outputs": []
   },
  {
    "cell_type": "code",
    "execution_count": null,
    "metadata": {},
     "source": [
       "# Clone repository\n",
       "!git clone https://github.com/reedmayhew18/sae.git repo\n",
       "%cd repo\n",
       "!pip install -q -r src/requirements.txt"
     ],
     "outputs": []
   },
  {
    "cell_type": "code",
    "execution_count": null,
    "metadata": {},
     "source": [
       "# Run Llama-3 activation export\n",
       "!python build_activations_llama3.py --model_name meta-llama/Llama-3.1-8B-Instruct --data_len 50000 --batch_size 4 --output_dir activations_data"
     ],
     "outputs": []
   }
 ]
}
